{
 "cells": [
  {
   "cell_type": "markdown",
   "metadata": {},
   "source": [
    "![IronHack Logo](https://s3-eu-west-1.amazonaws.com/ih-materials/uploads/upload_d5c5793015fec3be28a63c4fa3dd4d55.png)\n",
    "\n",
    "# Your Second Project: Up to you!\n",
    "\n",
    "## Overview\n",
    "\n",
    "The goal of this project is to combine everything you have learned about this two fantastic programs: MySQL and Tableau/PowerBI. For this project, you will choose the dataset that you like (I personally recommend searching via Kaggel or any other place where you can find either SQL docs or CSV/Excels with complete information). Try to find a clean dataset, as the EDA will not be part of your assignment!\n",
    "\n",
    "You will have **one week** to complete the process and upload your results in GitHub. \n",
    "\n",
    "Next saturday, you will present your results in front of the class. The presentation will take place with the Read Me/Ipynb/Screenshots of your Queries and the Tableau Dashboard/Story. \n",
    "\n",
    "**You will be working individually for this project**, but we'll be guiding you along the process and helping you as you go. Show us what you've got!\n",
    "\n",
    "---\n",
    "\n",
    "## Requirements\n",
    "\n",
    "Your main goal is to find a correct dataset that could be divided, or even a couple of related tables. Then, you will proceed to analyze using both SQL and Tableau/PowerBI tools, bia queries and Dashboards. \n",
    "\n",
    "The technical requirements for this project are as follows:\n",
    " **SQL**\n",
    " * At least 2 tables are needed for this project. The best number will be at least 3.\n",
    " * If you find a dataset that could not be normalized, try creating one Table related to the first of your own. \n",
    " * Use Joins.\n",
    " *Use Window Functions.\n",
    " * Use aggregations/Group By.\n",
    " * Do at least one subquery.\n",
    " * At least one Date field must be present.\n",
    "\n",
    "**TABLEAU/POWERBI**\n",
    "* Create the Joins of tables or Unions as needed\n",
    "* The presentation must be in Dashboard or Story format, NOT SHEETS.\n",
    "* Use User/Friendly filter\n",
    "* Parameters or filters that affect multiple sheets are a plus.\n",
    "* Priorize the structure/presentation: USE CONTAINERS or a really clear structure\n",
    "\n",
    "\n",
    "## Project Feedback + Evaluation\n",
    "\n",
    "* __Technical Requirements__: Did you deliver a project that met all the technical requirements? Given what the class has covered so far, did you build something that was reasonably complex?\n",
    "\n",
    "* __Creativity__: Did you add a personal spin or creative element into your project submission? Did you incorporate domain knowledge or unique perspective into your analysis.\n",
    "\n",
    "* __Code Quality__: Did you follow code style guidance and best practices covered in class?\n",
    "\n",
    "\n",
    "\n",
    "## Presentation Guideline and Criteria\n",
    "\n",
    "### Format\n",
    "\n",
    "* Presentation Time: 9 minutes\n",
    "* Q & A: 3 minutes\n",
    "* **Total Time:** 12 minutes"
   ]
  },
  {
   "cell_type": "markdown",
   "metadata": {},
   "source": []
  }
 ],
 "metadata": {
  "language_info": {
   "name": "python"
  }
 },
 "nbformat": 4,
 "nbformat_minor": 2
}
